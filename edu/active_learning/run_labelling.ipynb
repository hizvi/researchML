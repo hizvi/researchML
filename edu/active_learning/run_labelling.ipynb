{
 "cells": [
  {
   "cell_type": "markdown",
   "metadata": {},
   "source": [
    "### Run labelling"
   ]
  },
  {
   "cell_type": "code",
   "execution_count": 8,
   "metadata": {},
   "outputs": [],
   "source": [
    "# import label() from label.py\n",
    "from label import label\n",
    "# import samplers from sampler.py\n",
    "from sampler import Sampler, UncertaintySampler"
   ]
  },
  {
   "cell_type": "code",
   "execution_count": 9,
   "metadata": {},
   "outputs": [],
   "source": [
    "sampler = UncertaintySampler()"
   ]
  },
  {
   "cell_type": "code",
   "execution_count": 12,
   "metadata": {},
   "outputs": [
    {
     "name": "stderr",
     "output_type": "stream",
     "text": [
      "/home/heyson/.conda/envs/iitml/lib/python3.6/site-packages/sklearn/linear_model/logistic.py:459: FutureWarning: Default multi_class will be changed to 'auto' in 0.22. Specify the multi_class option to silence this warning.\n",
      "  \"this warning.\", FutureWarning)\n"
     ]
    },
    {
     "name": "stdout",
     "output_type": "stream",
     "text": [
      "EDU:\n",
      "\t the special make-up effect range from good to poor\n",
      "\n"
     ]
    },
    {
     "name": "stdin",
     "output_type": "stream",
     "text": [
      "Please label this EDU: ( n = negative | z = neutral | p = positive ) n\n"
     ]
    },
    {
     "name": "stdout",
     "output_type": "stream",
     "text": [
      "======> LABELED N \n",
      "\n",
      "EDU:\n",
      "\t both lancaster and ( surprisingly ) hodiak fall for scott .\n",
      "\n"
     ]
    },
    {
     "name": "stdin",
     "output_type": "stream",
     "text": [
      "Please label this EDU: ( n = negative | z = neutral | p = positive ) z\n"
     ]
    },
    {
     "name": "stdout",
     "output_type": "stream",
     "text": [
      "======> LABELED Z \n",
      "\n",
      "EDU:\n",
      "\t since their excellent yet not much person have seen `` the edge . ''\n",
      "\n"
     ]
    },
    {
     "name": "stdin",
     "output_type": "stream",
     "text": [
      "Please label this EDU: ( n = negative | z = neutral | p = positive ) p\n"
     ]
    },
    {
     "name": "stdout",
     "output_type": "stream",
     "text": [
      "======> LABELED P \n",
      "\n",
      "EDU:\n",
      "\t that even the beautiful scenery in venice fail to pull up the reputation of the film .\n",
      "\n"
     ]
    },
    {
     "name": "stdin",
     "output_type": "stream",
     "text": [
      "Please label this EDU: ( n = negative | z = neutral | p = positive ) n\n"
     ]
    },
    {
     "name": "stdout",
     "output_type": "stream",
     "text": [
      "======> LABELED N \n",
      "\n",
      "EDU:\n",
      "\t as best they could ,\n",
      "\n"
     ]
    },
    {
     "name": "stdin",
     "output_type": "stream",
     "text": [
      "Please label this EDU: ( n = negative | z = neutral | p = positive ) p\n"
     ]
    },
    {
     "name": "stdout",
     "output_type": "stream",
     "text": [
      "======> LABELED P \n",
      "\n",
      "EDU:\n",
      "\t in a sympathetic role as a count\n",
      "\n"
     ]
    },
    {
     "name": "stdin",
     "output_type": "stream",
     "text": [
      "Please label this EDU: ( n = negative | z = neutral | p = positive ) z\n"
     ]
    },
    {
     "name": "stdout",
     "output_type": "stream",
     "text": [
      "======> LABELED Z \n",
      "\n",
      "EDU:\n",
      "\t who met a bad end .\n",
      "\n"
     ]
    },
    {
     "name": "stdin",
     "output_type": "stream",
     "text": [
      "Please label this EDU: ( n = negative | z = neutral | p = positive ) n\n"
     ]
    },
    {
     "name": "stdout",
     "output_type": "stream",
     "text": [
      "======> LABELED N \n",
      "\n",
      "EDU:\n",
      "\t of cheap labor in steel and coal industry .\n",
      "\n"
     ]
    },
    {
     "name": "stdin",
     "output_type": "stream",
     "text": [
      "Please label this EDU: ( n = negative | z = neutral | p = positive ) z\n"
     ]
    },
    {
     "name": "stdout",
     "output_type": "stream",
     "text": [
      "======> LABELED Z \n",
      "\n",
      "EDU:\n",
      "\t helping out is it had an unpredictable pattern .\n",
      "\n"
     ]
    },
    {
     "name": "stdin",
     "output_type": "stream",
     "text": [
      "Please label this EDU: ( n = negative | z = neutral | p = positive ) z\n"
     ]
    },
    {
     "name": "stdout",
     "output_type": "stream",
     "text": [
      "======> LABELED Z \n",
      "\n",
      "EDU:\n",
      "\t without resorting to cheap gimmick like a seemingly fragile but latently super-powered illegitimate child .\n",
      "\n"
     ]
    },
    {
     "name": "stdin",
     "output_type": "stream",
     "text": [
      "Please label this EDU: ( n = negative | z = neutral | p = positive ) z\n"
     ]
    },
    {
     "name": "stdout",
     "output_type": "stream",
     "text": [
      "======> LABELED Z \n",
      "\n",
      "EDU:\n",
      "\t as advocated by joey in friend.there is plenty of gore and an awful lot of shooting ,\n",
      "\n"
     ]
    },
    {
     "name": "stdin",
     "output_type": "stream",
     "text": [
      "Please label this EDU: ( n = negative | z = neutral | p = positive ) z\n"
     ]
    },
    {
     "name": "stdout",
     "output_type": "stream",
     "text": [
      "======> LABELED Z \n",
      "\n",
      "EDU:\n",
      "\t ( much of it surprisingly\n",
      "\n"
     ]
    },
    {
     "name": "stdin",
     "output_type": "stream",
     "text": [
      "Please label this EDU: ( n = negative | z = neutral | p = positive ) z\n"
     ]
    },
    {
     "name": "stdout",
     "output_type": "stream",
     "text": [
      "======> LABELED Z \n",
      "\n",
      "EDU:\n",
      "\t and muriel blanding\n",
      "\n"
     ]
    },
    {
     "name": "stdin",
     "output_type": "stream",
     "text": [
      "Please label this EDU: ( n = negative | z = neutral | p = positive ) z\n"
     ]
    },
    {
     "name": "stdout",
     "output_type": "stream",
     "text": [
      "======> LABELED Z \n",
      "\n",
      "EDU:\n",
      "\t complete with shiny badge !\n",
      "\n"
     ]
    },
    {
     "name": "stdin",
     "output_type": "stream",
     "text": [
      "Please label this EDU: ( n = negative | z = neutral | p = positive ) z\n"
     ]
    },
    {
     "name": "stdout",
     "output_type": "stream",
     "text": [
      "======> LABELED Z \n",
      "\n",
      "EDU:\n",
      "\t in order to avoid any potential spoiler .\n",
      "\n"
     ]
    },
    {
     "name": "stdin",
     "output_type": "stream",
     "text": [
      "Please label this EDU: ( n = negative | z = neutral | p = positive ) z\n"
     ]
    },
    {
     "name": "stdout",
     "output_type": "stream",
     "text": [
      "======> LABELED Z \n",
      "\n",
      "EDU:\n",
      "\t it could have been a funeral.this was the effect\n",
      "\n"
     ]
    },
    {
     "name": "stdin",
     "output_type": "stream",
     "text": [
      "Please label this EDU: ( n = negative | z = neutral | p = positive ) n\n"
     ]
    },
    {
     "name": "stdout",
     "output_type": "stream",
     "text": [
      "======> LABELED N \n",
      "\n",
      "EDU:\n",
      "\t to operate the great machine .\n",
      "\n"
     ]
    },
    {
     "name": "stdin",
     "output_type": "stream",
     "text": [
      "Please label this EDU: ( n = negative | z = neutral | p = positive ) z\n"
     ]
    },
    {
     "name": "stdout",
     "output_type": "stream",
     "text": [
      "======> LABELED Z \n",
      "\n",
      "EDU:\n",
      "\t who has had one too many bad trip .\n",
      "\n"
     ]
    },
    {
     "name": "stdin",
     "output_type": "stream",
     "text": [
      "Please label this EDU: ( n = negative | z = neutral | p = positive ) z\n"
     ]
    },
    {
     "name": "stdout",
     "output_type": "stream",
     "text": [
      "======> LABELED Z \n",
      "\n",
      "EDU:\n",
      "\t like any great painting the meaning in `` domino '' is in the surface\n",
      "\n"
     ]
    },
    {
     "name": "stdin",
     "output_type": "stream",
     "text": [
      "Please label this EDU: ( n = negative | z = neutral | p = positive ) z\n"
     ]
    },
    {
     "name": "stdout",
     "output_type": "stream",
     "text": [
      "======> LABELED Z \n",
      "\n",
      "EDU:\n",
      "\t and less obnoxious\n",
      "\n"
     ]
    },
    {
     "name": "stdin",
     "output_type": "stream",
     "text": [
      "Please label this EDU: ( n = negative | z = neutral | p = positive ) z\n"
     ]
    },
    {
     "name": "stdout",
     "output_type": "stream",
     "text": [
      "======> LABELED Z \n",
      "\n"
     ]
    },
    {
     "name": "stdin",
     "output_type": "stream",
     "text": [
      "continue? T/F  F\n"
     ]
    },
    {
     "name": "stdout",
     "output_type": "stream",
     "text": [
      "======> END <======\n"
     ]
    }
   ],
   "source": [
    "label(sampler)"
   ]
  },
  {
   "cell_type": "code",
   "execution_count": 16,
   "metadata": {},
   "outputs": [
    {
     "data": {
      "text/plain": [
       "(4241, 25309)"
      ]
     },
     "execution_count": 16,
     "metadata": {},
     "output_type": "execute_result"
    }
   ],
   "source": [
    "len(sampler.labeled), len(sampler.unlabeled)"
   ]
  },
  {
   "cell_type": "code",
   "execution_count": 17,
   "metadata": {},
   "outputs": [
    {
     "data": {
      "text/plain": [
       "(1346, 1606, 1269)"
      ]
     },
     "execution_count": 17,
     "metadata": {},
     "output_type": "execute_result"
    }
   ],
   "source": [
    "sampler.nzp"
   ]
  },
  {
   "cell_type": "code",
   "execution_count": null,
   "metadata": {},
   "outputs": [],
   "source": []
  }
 ],
 "metadata": {
  "kernelspec": {
   "display_name": "Python 3",
   "language": "python",
   "name": "python3"
  },
  "language_info": {
   "codemirror_mode": {
    "name": "ipython",
    "version": 3
   },
   "file_extension": ".py",
   "mimetype": "text/x-python",
   "name": "python",
   "nbconvert_exporter": "python",
   "pygments_lexer": "ipython3",
   "version": "3.6.6"
  }
 },
 "nbformat": 4,
 "nbformat_minor": 2
}
