{
 "cells": [
  {
   "cell_type": "markdown",
   "metadata": {},
   "source": [
    "### Run labelling"
   ]
  },
  {
   "cell_type": "code",
   "execution_count": 1,
   "metadata": {},
   "outputs": [],
   "source": [
    "# import label() from label.py\n",
    "from label import label\n",
    "# import samplers from sampler.py\n",
    "from sampler import Sampler, UncertaintySampler"
   ]
  },
  {
   "cell_type": "code",
   "execution_count": 2,
   "metadata": {},
   "outputs": [],
   "source": [
    "sampler = UncertaintySampler()"
   ]
  },
  {
   "cell_type": "code",
   "execution_count": 3,
   "metadata": {},
   "outputs": [
    {
     "name": "stderr",
     "output_type": "stream",
     "text": [
      "/home/heyson/.conda/envs/iitml/lib/python3.6/site-packages/sklearn/linear_model/logistic.py:459: FutureWarning: Default multi_class will be changed to 'auto' in 0.22. Specify the multi_class option to silence this warning.\n",
      "  \"this warning.\", FutureWarning)\n"
     ]
    },
    {
     "name": "stdout",
     "output_type": "stream",
     "text": [
      "EDU:\n",
      "\t even though there is no such thing as bad and good because there is nobody to decide what that is ,\n",
      "\n"
     ]
    },
    {
     "name": "stdin",
     "output_type": "stream",
     "text": [
      "Please label this EDU: ( n = negative | z = neutral | p = positive ) z\n"
     ]
    },
    {
     "name": "stdout",
     "output_type": "stream",
     "text": [
      "======> LABELED Z \n",
      "\n",
      "EDU:\n",
      "\t if you just want to have a fun 90 minute\n",
      "\n"
     ]
    },
    {
     "name": "stdin",
     "output_type": "stream",
     "text": [
      "Please label this EDU: ( n = negative | z = neutral | p = positive ) p\n"
     ]
    },
    {
     "name": "stdout",
     "output_type": "stream",
     "text": [
      "======> LABELED P \n",
      "\n",
      "EDU:\n",
      "\t i enjoyed the thrilling chase within the wood ,\n",
      "\n"
     ]
    },
    {
     "name": "stdin",
     "output_type": "stream",
     "text": [
      "Please label this EDU: ( n = negative | z = neutral | p = positive ) p\n"
     ]
    },
    {
     "name": "stdout",
     "output_type": "stream",
     "text": [
      "======> LABELED P \n",
      "\n",
      "EDU:\n",
      "\t ( not bad for a professional kick boxer and amateur actress ) .\n",
      "\n"
     ]
    },
    {
     "name": "stdin",
     "output_type": "stream",
     "text": [
      "Please label this EDU: ( n = negative | z = neutral | p = positive ) p\n"
     ]
    },
    {
     "name": "stdout",
     "output_type": "stream",
     "text": [
      "======> LABELED P \n",
      "\n",
      "EDU:\n",
      "\t it is any great loss to either of them .\n",
      "\n"
     ]
    },
    {
     "name": "stdin",
     "output_type": "stream",
     "text": [
      "Please label this EDU: ( n = negative | z = neutral | p = positive ) z\n"
     ]
    },
    {
     "name": "stdout",
     "output_type": "stream",
     "text": [
      "======> LABELED Z \n",
      "\n",
      "EDU:\n",
      "\t michael has come home to murder again.the story is perfectly simple\n",
      "\n"
     ]
    },
    {
     "name": "stdin",
     "output_type": "stream",
     "text": [
      "Please label this EDU: ( n = negative | z = neutral | p = positive ) p\n"
     ]
    },
    {
     "name": "stdout",
     "output_type": "stream",
     "text": [
      "======> LABELED P \n",
      "\n",
      "EDU:\n",
      "\t who hurt her son and spouting some painfully unfunny\n",
      "\n"
     ]
    },
    {
     "name": "stdin",
     "output_type": "stream",
     "text": [
      "Please label this EDU: ( n = negative | z = neutral | p = positive ) n\n"
     ]
    },
    {
     "name": "stdout",
     "output_type": "stream",
     "text": [
      "======> LABELED N \n",
      "\n",
      "EDU:\n",
      "\t the senegalese appear to be a poor but happy\n",
      "\n"
     ]
    },
    {
     "name": "stdin",
     "output_type": "stream",
     "text": [
      "Please label this EDU: ( n = negative | z = neutral | p = positive ) p\n"
     ]
    },
    {
     "name": "stdout",
     "output_type": "stream",
     "text": [
      "======> LABELED P \n",
      "\n",
      "EDU:\n",
      "\t once in a while it eaks out and looks great ,\n",
      "\n"
     ]
    },
    {
     "name": "stdin",
     "output_type": "stream",
     "text": [
      "Please label this EDU: ( n = negative | z = neutral | p = positive ) p\n"
     ]
    },
    {
     "name": "stdout",
     "output_type": "stream",
     "text": [
      "======> LABELED P \n",
      "\n",
      "EDU:\n",
      "\t the original hill have eye ' unforgettable michael berryman\n",
      "\n"
     ]
    },
    {
     "name": "stdin",
     "output_type": "stream",
     "text": [
      "Please label this EDU: ( n = negative | z = neutral | p = positive ) z\n"
     ]
    },
    {
     "name": "stdout",
     "output_type": "stream",
     "text": [
      "======> LABELED Z \n",
      "\n",
      "EDU:\n",
      "\t young beautiful eva\n",
      "\n"
     ]
    },
    {
     "name": "stdin",
     "output_type": "stream",
     "text": [
      "Please label this EDU: ( n = negative | z = neutral | p = positive ) p\n"
     ]
    },
    {
     "name": "stdout",
     "output_type": "stream",
     "text": [
      "======> LABELED P \n",
      "\n",
      "EDU:\n",
      "\t and fails to exhibit many of the feature\n",
      "\n"
     ]
    },
    {
     "name": "stdin",
     "output_type": "stream",
     "text": [
      "Please label this EDU: ( n = negative | z = neutral | p = positive ) n\n"
     ]
    },
    {
     "name": "stdout",
     "output_type": "stream",
     "text": [
      "======> LABELED N \n",
      "\n",
      "EDU:\n",
      "\t singing the tango `` jealousy ''\n",
      "\n"
     ]
    },
    {
     "name": "stdin",
     "output_type": "stream",
     "text": [
      "Please label this EDU: ( n = negative | z = neutral | p = positive ) z\n"
     ]
    },
    {
     "name": "stdout",
     "output_type": "stream",
     "text": [
      "======> LABELED Z \n",
      "\n",
      "EDU:\n",
      "\t stephen king makes a mildly amusing cameo as an annoying gardener\n",
      "\n"
     ]
    },
    {
     "name": "stdin",
     "output_type": "stream",
     "text": [
      "Please label this EDU: ( n = negative | z = neutral | p = positive ) p\n"
     ]
    },
    {
     "name": "stdout",
     "output_type": "stream",
     "text": [
      "======> LABELED P \n",
      "\n",
      "EDU:\n",
      "\t unfortunately.i have heard rumor of a sequel ,\n",
      "\n"
     ]
    },
    {
     "name": "stdin",
     "output_type": "stream",
     "text": [
      "Please label this EDU: ( n = negative | z = neutral | p = positive ) z\n"
     ]
    },
    {
     "name": "stdout",
     "output_type": "stream",
     "text": [
      "======> LABELED Z \n",
      "\n",
      "EDU:\n",
      "\t maybe even a 9.5/10 .\n",
      "\n"
     ]
    },
    {
     "name": "stdin",
     "output_type": "stream",
     "text": [
      "Please label this EDU: ( n = negative | z = neutral | p = positive ) p\n"
     ]
    },
    {
     "name": "stdout",
     "output_type": "stream",
     "text": [
      "======> LABELED P \n",
      "\n",
      "EDU:\n",
      "\t `` how bad was it before ? ''\n",
      "\n"
     ]
    },
    {
     "name": "stdin",
     "output_type": "stream",
     "text": [
      "Please label this EDU: ( n = negative | z = neutral | p = positive ) z\n"
     ]
    },
    {
     "name": "stdout",
     "output_type": "stream",
     "text": [
      "======> LABELED Z \n",
      "\n",
      "EDU:\n",
      "\t someone should have told him that `` poor '' is not synonymous with dirty\n",
      "\n"
     ]
    },
    {
     "name": "stdin",
     "output_type": "stream",
     "text": [
      "Please label this EDU: ( n = negative | z = neutral | p = positive ) n\n"
     ]
    },
    {
     "name": "stdout",
     "output_type": "stream",
     "text": [
      "======> LABELED N \n",
      "\n",
      "EDU:\n",
      "\t beautiful location\n",
      "\n"
     ]
    },
    {
     "name": "stdin",
     "output_type": "stream",
     "text": [
      "Please label this EDU: ( n = negative | z = neutral | p = positive ) p\n"
     ]
    },
    {
     "name": "stdout",
     "output_type": "stream",
     "text": [
      "======> LABELED P \n",
      "\n",
      "EDU:\n",
      "\t kareena kapoor looked bad .\n",
      "\n"
     ]
    },
    {
     "name": "stdin",
     "output_type": "stream",
     "text": [
      "Please label this EDU: ( n = negative | z = neutral | p = positive ) n\n"
     ]
    },
    {
     "name": "stdout",
     "output_type": "stream",
     "text": [
      "======> LABELED N \n",
      "\n"
     ]
    },
    {
     "name": "stdin",
     "output_type": "stream",
     "text": [
      "continue? T/F  F\n"
     ]
    },
    {
     "name": "stdout",
     "output_type": "stream",
     "text": [
      "======> END <======\n"
     ]
    }
   ],
   "source": [
    "label(sampler)"
   ]
  },
  {
   "cell_type": "code",
   "execution_count": 4,
   "metadata": {},
   "outputs": [
    {
     "data": {
      "text/plain": [
       "(3221, 25409)"
      ]
     },
     "execution_count": 4,
     "metadata": {},
     "output_type": "execute_result"
    }
   ],
   "source": [
    "len(sampler.labeled), len(sampler.unlabeled)"
   ]
  },
  {
   "cell_type": "code",
   "execution_count": 6,
   "metadata": {},
   "outputs": [
    {
     "data": {
      "text/plain": [
       "(1059, 1203, 939)"
      ]
     },
     "execution_count": 6,
     "metadata": {},
     "output_type": "execute_result"
    }
   ],
   "source": [
    "sampler.nzp"
   ]
  },
  {
   "cell_type": "code",
   "execution_count": null,
   "metadata": {},
   "outputs": [],
   "source": []
  }
 ],
 "metadata": {
  "kernelspec": {
   "display_name": "Python 3",
   "language": "python",
   "name": "python3"
  },
  "language_info": {
   "codemirror_mode": {
    "name": "ipython",
    "version": 3
   },
   "file_extension": ".py",
   "mimetype": "text/x-python",
   "name": "python",
   "nbconvert_exporter": "python",
   "pygments_lexer": "ipython3",
   "version": "3.6.6"
  }
 },
 "nbformat": 4,
 "nbformat_minor": 2
}
