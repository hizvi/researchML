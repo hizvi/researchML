{
 "cells": [
  {
   "cell_type": "code",
   "execution_count": 1,
   "metadata": {},
   "outputs": [],
   "source": [
    "from process_edus import EDUSample"
   ]
  },
  {
   "cell_type": "code",
   "execution_count": 2,
   "metadata": {},
   "outputs": [
    {
     "name": "stdout",
     "output_type": "stream",
     "text": [
      "=====> DATA LOADED\n",
      "=====> DATA VECTORIZED\n",
      "\t ngram range  (1, 1)\n",
      "\n",
      "                    X_train_vector shape: (1341, 361)\n",
      "                    y_train shape: (1341,)\n",
      "                    X_test_vector shape: (671, 361)\n",
      "                    y_test shape: (671,)        \n",
      "        \n",
      "=====> DATA LOADED\n",
      "=====> DATA VECTORIZED\n",
      "\t ngram range  (1, 2)\n",
      "\n",
      "                    X_train_vector shape: (1341, 620)\n",
      "                    y_train shape: (1341,)\n",
      "                    X_test_vector shape: (671, 620)\n",
      "                    y_test shape: (671,)        \n",
      "        \n",
      "=====> DATA LOADED\n",
      "=====> DATA VECTORIZED\n",
      "\t ngram range  (1, 3)\n",
      "\n",
      "                    X_train_vector shape: (1341, 681)\n",
      "                    y_train shape: (1341,)\n",
      "                    X_test_vector shape: (671, 681)\n",
      "                    y_test shape: (671,)        \n",
      "        \n",
      "=====> DATA LOADED\n",
      "=====> DATA VECTORIZED\n",
      "\t ngram range  (1, 4)\n",
      "\n",
      "                    X_train_vector shape: (1341, 690)\n",
      "                    y_train shape: (1341,)\n",
      "                    X_test_vector shape: (671, 690)\n",
      "                    y_test shape: (671,)        \n",
      "        \n",
      "=====> DATA LOADED\n",
      "=====> DATA VECTORIZED\n",
      "\t ngram range  (1, 5)\n",
      "\n",
      "                    X_train_vector shape: (1341, 693)\n",
      "                    y_train shape: (1341,)\n",
      "                    X_test_vector shape: (671, 693)\n",
      "                    y_test shape: (671,)        \n",
      "        \n"
     ]
    }
   ],
   "source": [
    "data = EDUSample()\n",
    "path = r'../LabeledEDUS.txt'\n",
    "dataset = []\n",
    "\n",
    "for i in range(1, 6):\n",
    "    X_train_vector, y_train, X_test_vector, y_test = \\\n",
    "                    data.split_vectorize(path, ngram=(1, i))\n",
    "    dataset.append({\n",
    "        'X_train': X_train_vector, \n",
    "        'y_train': y_train, \n",
    "        'X_test': X_test_vector, \n",
    "        'y_test': y_test\n",
    "    })"
   ]
  },
  {
   "cell_type": "code",
   "execution_count": 3,
   "metadata": {},
   "outputs": [
    {
     "data": {
      "text/plain": [
       "(1063, 1209, 949)"
      ]
     },
     "execution_count": 3,
     "metadata": {},
     "output_type": "execute_result"
    }
   ],
   "source": [
    "data.nzp"
   ]
  },
  {
   "cell_type": "code",
   "execution_count": 4,
   "metadata": {},
   "outputs": [],
   "source": [
    "import numpy as np\n",
    "\n",
    "# Models\n",
    "from sklearn.naive_bayes import MultinomialNB\n",
    "from sklearn.linear_model import LogisticRegression\n",
    "from sklearn.svm import SVC, LinearSVC, NuSVC\n",
    "\n",
    "# Hyper-parameter tuning\n",
    "from sklearn.model_selection import GridSearchCV, ParameterGrid\n",
    "\n",
    "# Performance \n",
    "from sklearn.metrics import make_scorer, classification_report, confusion_matrix\n",
    "\n",
    "# Visualiuzations\n",
    "from matplotlib import pyplot as plt\n",
    "import seaborn as sns; sns.set()"
   ]
  },
  {
   "cell_type": "markdown",
   "metadata": {},
   "source": [
    "#### Logistic Regression"
   ]
  },
  {
   "cell_type": "code",
   "execution_count": 5,
   "metadata": {},
   "outputs": [],
   "source": [
    "lr = LogisticRegression(random_state=42)"
   ]
  },
  {
   "cell_type": "code",
   "execution_count": 6,
   "metadata": {},
   "outputs": [],
   "source": [
    "PG = ParameterGrid({\n",
    "    'penalty': [['l1', 'l2']],\n",
    "    'C': [[0.0001, 0.001, 0.01, 0.1, 1, 10, 100]]\n",
    "})"
   ]
  },
  {
   "cell_type": "code",
   "execution_count": 7,
   "metadata": {},
   "outputs": [],
   "source": [
    "grid_search = GridSearchCV(lr, PG)"
   ]
  },
  {
   "cell_type": "code",
   "execution_count": 8,
   "metadata": {},
   "outputs": [
    {
     "data": {
      "text/plain": [
       "[{'C': [0.0001, 0.001, 0.01, 0.1, 1, 10, 100], 'penalty': ['l1', 'l2']}]"
      ]
     },
     "execution_count": 8,
     "metadata": {},
     "output_type": "execute_result"
    }
   ],
   "source": [
    "list(PG)"
   ]
  },
  {
   "cell_type": "code",
   "execution_count": 9,
   "metadata": {},
   "outputs": [],
   "source": [
    "c_data = dataset[0] \n",
    "X_train, y_train, X_test, y_test = \\\n",
    "    c_data['X_train'], c_data['y_train'], c_data['X_test'], c_data['y_test']"
   ]
  },
  {
   "cell_type": "code",
   "execution_count": 11,
   "metadata": {},
   "outputs": [
    {
     "data": {
      "text/plain": [
       "{'C': 0.0001, 'penalty': 'l2'}"
      ]
     },
     "execution_count": 11,
     "metadata": {},
     "output_type": "execute_result"
    }
   ],
   "source": [
    "grid_search.best_params_"
   ]
  },
  {
   "cell_type": "code",
   "execution_count": 12,
   "metadata": {},
   "outputs": [],
   "source": [
    "preds = grid_search.best_estimator_.predict(X_test)"
   ]
  },
  {
   "cell_type": "code",
   "execution_count": 13,
   "metadata": {},
   "outputs": [
    {
     "data": {
      "text/plain": [
       "Text(89.18, 0.5, 'predicted label')"
      ]
     },
     "execution_count": 13,
     "metadata": {},
     "output_type": "execute_result"
    },
    {
     "data": {
      "image/png": "[encoded data removed]",
      "text/plain": [
       "<Figure size 432x288 with 1 Axes>"
      ]
     },
     "metadata": {
      "needs_background": "light"
     },
     "output_type": "display_data"
    }
   ],
   "source": [
    "mat = confusion_matrix(preds, y_test)\n",
    "    \n",
    "sns.heatmap(mat.T, square=True, annot=True, fmt='d', cbar=False,\n",
    "        xticklabels=['negative', 'positive'], yticklabels=['negative', 'positive'])\n",
    "\n",
    "plt.xlabel('true label')\n",
    "plt.ylabel('predicted label')"
   ]
  },
  {
   "cell_type": "code",
   "execution_count": null,
   "metadata": {},
   "outputs": [],
   "source": []
  }
 ],
 "metadata": {
  "kernelspec": {
   "display_name": "Python 3",
   "language": "python",
   "name": "python3"
  },
  "language_info": {
   "codemirror_mode": {
    "name": "ipython",
    "version": 3
   },
   "file_extension": ".py",
   "mimetype": "text/x-python",
   "name": "python",
   "nbconvert_exporter": "python",
   "pygments_lexer": "ipython3",
   "version": "3.6.6"
  }
 },
 "nbformat": 4,
 "nbformat_minor": 2
}
