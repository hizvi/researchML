{
 "cells": [
  {
   "cell_type": "code",
   "execution_count": 4,
   "metadata": {},
   "outputs": [],
   "source": [
    "from process_edus import EDUSample"
   ]
  },
  {
   "cell_type": "code",
   "execution_count": 5,
   "metadata": {},
   "outputs": [
    {
     "name": "stdout",
     "output_type": "stream",
     "text": [
      "=====> DATA LOADED\n",
      "=====> DATA VECTORIZED\n",
      "\t ngram range  (1, 1)\n",
      "                    X_train_vector shape: (1709, 432)\n",
      "                    y_train shape: (1709,)\n",
      "                    X_test_vector shape: (855, 432)\n",
      "                    y_test shape: (855,)        \n",
      "        \n",
      "=====> DATA LOADED\n",
      "=====> DATA VECTORIZED\n",
      "\t ngram range  (1, 2)\n",
      "                    X_train_vector shape: (1709, 705)\n",
      "                    y_train shape: (1709,)\n",
      "                    X_test_vector shape: (855, 705)\n",
      "                    y_test shape: (855,)        \n",
      "        \n",
      "=====> DATA LOADED\n",
      "=====> DATA VECTORIZED\n",
      "\t ngram range  (1, 3)\n",
      "                    X_train_vector shape: (1709, 763)\n",
      "                    y_train shape: (1709,)\n",
      "                    X_test_vector shape: (855, 763)\n",
      "                    y_test shape: (855,)        \n",
      "        \n",
      "=====> DATA LOADED\n",
      "=====> DATA VECTORIZED\n",
      "\t ngram range  (1, 4)\n",
      "                    X_train_vector shape: (1709, 771)\n",
      "                    y_train shape: (1709,)\n",
      "                    X_test_vector shape: (855, 771)\n",
      "                    y_test shape: (855,)        \n",
      "        \n",
      "=====> DATA LOADED\n",
      "=====> DATA VECTORIZED\n",
      "\t ngram range  (1, 5)\n",
      "                    X_train_vector shape: (1709, 773)\n",
      "                    y_train shape: (1709,)\n",
      "                    X_test_vector shape: (855, 773)\n",
      "                    y_test shape: (855,)        \n",
      "        \n"
     ]
    }
   ],
   "source": [
    "data = EDUSample()\n",
    "path = r'../LabeledEDUS.txt'\n",
    "dataset = []\n",
    "\n",
    "for i in range(1, 6):\n",
    "    X_train_vector, y_train, X_test_vector, y_test = \\\n",
    "                    data.split_vectorize(path, ngram=(1, i))\n",
    "    dataset.append({\n",
    "        'X_train': X_train_vector, \n",
    "        'y_train': y_train, \n",
    "        'X_test': X_test_vector, \n",
    "        'y_test': y_test\n",
    "    })"
   ]
  },
  {
   "cell_type": "code",
   "execution_count": 6,
   "metadata": {},
   "outputs": [
    {
     "data": {
      "text/plain": [
       "(1322, 1577, 1242)"
      ]
     },
     "execution_count": 6,
     "metadata": {},
     "output_type": "execute_result"
    }
   ],
   "source": [
    "data.nzp"
   ]
  },
  {
   "cell_type": "code",
   "execution_count": 7,
   "metadata": {},
   "outputs": [],
   "source": [
    "import numpy as np\n",
    "import math\n",
    "\n",
    "# Models\n",
    "from sklearn.naive_bayes import MultinomialNB\n",
    "from sklearn.linear_model import LogisticRegression\n",
    "from sklearn.svm import SVC, LinearSVC, NuSVC\n",
    "\n",
    "# Hyper-parameter tuning\n",
    "from sklearn.model_selection import GridSearchCV, ParameterGrid\n",
    "\n",
    "# Performance \n",
    "from sklearn.metrics import make_scorer, classification_report, confusion_matrix\n",
    "\n",
    "# Visualiuzations\n",
    "from matplotlib import pyplot as plt\n",
    "import seaborn as sns; sns.set()"
   ]
  },
  {
   "cell_type": "markdown",
   "metadata": {},
   "source": [
    "#### Logistic Regression"
   ]
  },
  {
   "cell_type": "code",
   "execution_count": 8,
   "metadata": {},
   "outputs": [],
   "source": [
    "lr = LogisticRegression(random_state=42)"
   ]
  },
  {
   "cell_type": "code",
   "execution_count": 9,
   "metadata": {},
   "outputs": [],
   "source": [
    "PG = ParameterGrid({\n",
    "    'penalty': [['l1', 'l2']],\n",
    "    'C': [[0.0001, 0.001, 0.01, 0.1, 1, 10, 100]]\n",
    "})"
   ]
  },
  {
   "cell_type": "code",
   "execution_count": 10,
   "metadata": {},
   "outputs": [],
   "source": [
    "grid_search = GridSearchCV(lr, PG, verbose=1)"
   ]
  },
  {
   "cell_type": "code",
   "execution_count": 11,
   "metadata": {},
   "outputs": [
    {
     "data": {
      "text/plain": [
       "[{'C': [0.0001, 0.001, 0.01, 0.1, 1, 10, 100], 'penalty': ['l1', 'l2']}]"
      ]
     },
     "execution_count": 11,
     "metadata": {},
     "output_type": "execute_result"
    }
   ],
   "source": [
    "list(PG)"
   ]
  },
  {
   "cell_type": "code",
   "execution_count": 12,
   "metadata": {},
   "outputs": [
    {
     "name": "stderr",
     "output_type": "stream",
     "text": [
      "/home/heyson/.conda/envs/iitml/lib/python3.6/site-packages/sklearn/model_selection/_split.py:1943: FutureWarning: You should specify a value for 'cv' instead of relying on the default value. The default value will change from 3 to 5 in version 0.22.\n",
      "  warnings.warn(CV_WARNING, FutureWarning)\n",
      "[Parallel(n_jobs=1)]: Using backend SequentialBackend with 1 concurrent workers.\n",
      "/home/heyson/.conda/envs/iitml/lib/python3.6/site-packages/sklearn/linear_model/logistic.py:432: FutureWarning: Default solver will be changed to 'lbfgs' in 0.22. Specify a solver to silence this warning.\n",
      "  FutureWarning)\n"
     ]
    },
    {
     "name": "stdout",
     "output_type": "stream",
     "text": [
      "Fitting 3 folds for each of 14 candidates, totalling 42 fits\n"
     ]
    },
    {
     "name": "stderr",
     "output_type": "stream",
     "text": [
      "[Parallel(n_jobs=1)]: Done  42 out of  42 | elapsed:    0.6s finished\n"
     ]
    },
    {
     "data": {
      "text/plain": [
       "GridSearchCV(cv='warn', error_score='raise-deprecating',\n",
       "       estimator=LogisticRegression(C=1.0, class_weight=None, dual=False, fit_intercept=True,\n",
       "          intercept_scaling=1, max_iter=100, multi_class='warn',\n",
       "          n_jobs=None, penalty='l2', random_state=42, solver='warn',\n",
       "          tol=0.0001, verbose=0, warm_start=False),\n",
       "       fit_params=None, iid='warn', n_jobs=None,\n",
       "       param_grid=<sklearn.model_selection._search.ParameterGrid object at 0x7fc9a33e6710>,\n",
       "       pre_dispatch='2*n_jobs', refit=True, return_train_score='warn',\n",
       "       scoring=None, verbose=1)"
      ]
     },
     "execution_count": 12,
     "metadata": {},
     "output_type": "execute_result"
    }
   ],
   "source": [
    "c_data = dataset[0] \n",
    "X_train, y_train, X_test, y_test = \\\n",
    "    c_data['X_train'], c_data['y_train'], c_data['X_test'], c_data['y_test']\n",
    "\n",
    "\n",
    "grid_search.fit(X_train, y_train)"
   ]
  },
  {
   "cell_type": "code",
   "execution_count": 13,
   "metadata": {},
   "outputs": [
    {
     "name": "stdout",
     "output_type": "stream",
     "text": [
      "{'mean_fit_time': array([0.00929515, 0.00550397, 0.00340788, 0.0064431 , 0.0038267 ,\n",
      "       0.00565489, 0.00503476, 0.00616558, 0.00655222, 0.00977429,\n",
      "       0.01029483, 0.01766022, 0.03504888, 0.03592658]), 'std_fit_time': array([0.00832329, 0.00172291, 0.00093458, 0.00120844, 0.00045616,\n",
      "       0.0005363 , 0.00042052, 0.00048912, 0.00124014, 0.00112734,\n",
      "       0.0016696 , 0.00014886, 0.002437  , 0.00358957]), 'mean_score_time': array([0.00059628, 0.00054304, 0.00046857, 0.0006965 , 0.00065351,\n",
      "       0.00056664, 0.00056203, 0.00045896, 0.00067846, 0.0006245 ,\n",
      "       0.00051792, 0.00059644, 0.00053867, 0.00064945]), 'std_score_time': array([5.44002029e-05, 9.34350078e-05, 5.69300878e-05, 1.01257718e-04,\n",
      "       1.06266417e-04, 4.87153720e-05, 4.08256961e-05, 9.47469154e-05,\n",
      "       2.33982487e-04, 1.43377453e-04, 8.43937411e-05, 2.20003499e-05,\n",
      "       1.25048114e-04, 1.81647213e-05]), 'param_C': masked_array(data=[0.0001, 0.0001, 0.001, 0.001, 0.01, 0.01, 0.1, 0.1, 1,\n",
      "                   1, 10, 10, 100, 100],\n",
      "             mask=[False, False, False, False, False, False, False, False,\n",
      "                   False, False, False, False, False, False],\n",
      "       fill_value='?',\n",
      "            dtype=object), 'param_penalty': masked_array(data=['l1', 'l2', 'l1', 'l2', 'l1', 'l2', 'l1', 'l2', 'l1',\n",
      "                   'l2', 'l1', 'l2', 'l1', 'l2'],\n",
      "             mask=[False, False, False, False, False, False, False, False,\n",
      "                   False, False, False, False, False, False],\n",
      "       fill_value='?',\n",
      "            dtype=object), 'params': [{'C': 0.0001, 'penalty': 'l1'}, {'C': 0.0001, 'penalty': 'l2'}, {'C': 0.001, 'penalty': 'l1'}, {'C': 0.001, 'penalty': 'l2'}, {'C': 0.01, 'penalty': 'l1'}, {'C': 0.01, 'penalty': 'l2'}, {'C': 0.1, 'penalty': 'l1'}, {'C': 0.1, 'penalty': 'l2'}, {'C': 1, 'penalty': 'l1'}, {'C': 1, 'penalty': 'l2'}, {'C': 10, 'penalty': 'l1'}, {'C': 10, 'penalty': 'l2'}, {'C': 100, 'penalty': 'l1'}, {'C': 100, 'penalty': 'l2'}], 'split0_test_score': array([0.50877193, 0.64736842, 0.50877193, 0.64912281, 0.50877193,\n",
      "       0.68421053, 0.61929825, 0.72807018, 0.76666667, 0.77192982,\n",
      "       0.73859649, 0.75614035, 0.67894737, 0.71578947]), 'split1_test_score': array([0.50877193, 0.66491228, 0.50877193, 0.67017544, 0.50877193,\n",
      "       0.72105263, 0.63508772, 0.76491228, 0.78596491, 0.7877193 ,\n",
      "       0.74210526, 0.77017544, 0.69298246, 0.74035088]), 'split2_test_score': array([0.50966608, 0.63796134, 0.50966608, 0.63796134, 0.50966608,\n",
      "       0.66432337, 0.6115993 , 0.75571178, 0.79964851, 0.76977153,\n",
      "       0.75395431, 0.76449912, 0.72407733, 0.72231986]), 'mean_test_score': array([0.50906963, 0.65008777, 0.50906963, 0.65242832, 0.50906963,\n",
      "       0.68987712, 0.62200117, 0.74956115, 0.78408426, 0.77647747,\n",
      "       0.74488005, 0.76360445, 0.69865418, 0.72615565]), 'std_test_score': array([0.00042138, 0.01116799, 0.00042138, 0.01335572, 0.00042138,\n",
      "       0.02350064, 0.00977651, 0.01566007, 0.01352838, 0.00800131,\n",
      "       0.00656902, 0.00576622, 0.01885341, 0.01038972]), 'rank_test_score': array([12, 10, 12,  9, 12,  8, 11,  4,  1,  2,  5,  3,  7,  6],\n",
      "      dtype=int32), 'split0_train_score': array([0.50921861, 0.70851624, 0.50921861, 0.72256365, 0.50921861,\n",
      "       0.74802458, 0.63125549, 0.84108867, 0.87708516, 0.90693591,\n",
      "       0.95346795, 0.94644425, 0.97366111, 0.96224759]), 'split1_train_score': array([0.50921861, 0.69885865, 0.50921861, 0.71290606, 0.50921861,\n",
      "       0.74714662, 0.6619842 , 0.84372256, 0.8665496 , 0.90517998,\n",
      "       0.95697981, 0.94468832, 0.96751536, 0.96312555]), 'split2_train_score': array([0.50877193, 0.67719298, 0.50877193, 0.68508772, 0.50877193,\n",
      "       0.7245614 , 0.64561404, 0.83070175, 0.8877193 , 0.91578947,\n",
      "       0.95438596, 0.93947368, 0.97631579, 0.95701754]), 'mean_train_score': array([0.50906972, 0.69485596, 0.50906972, 0.70685248, 0.50906972,\n",
      "       0.73991087, 0.64628457, 0.83850433, 0.87711802, 0.90930179,\n",
      "       0.95494458, 0.94353542, 0.97249742, 0.96079689]), 'std_train_score': array([0.00021057, 0.01309714, 0.00021057, 0.01588701, 0.00021057,\n",
      "       0.01085963, 0.0125539 , 0.00562106, 0.00864252, 0.00464316,\n",
      "       0.00148713, 0.00296019, 0.00368578, 0.00269633])}\n"
     ]
    }
   ],
   "source": [
    "print(grid_search.cv_results_)"
   ]
  },
  {
   "cell_type": "code",
   "execution_count": 14,
   "metadata": {},
   "outputs": [
    {
     "data": {
      "text/plain": [
       "LogisticRegression(C=1, class_weight=None, dual=False, fit_intercept=True,\n",
       "          intercept_scaling=1, max_iter=100, multi_class='warn',\n",
       "          n_jobs=None, penalty='l1', random_state=42, solver='warn',\n",
       "          tol=0.0001, verbose=0, warm_start=False)"
      ]
     },
     "execution_count": 14,
     "metadata": {},
     "output_type": "execute_result"
    }
   ],
   "source": [
    "grid_search.best_estimator_"
   ]
  },
  {
   "cell_type": "code",
   "execution_count": 15,
   "metadata": {},
   "outputs": [],
   "source": [
    "preds = grid_search.best_estimator_.predict(X_test)"
   ]
  },
  {
   "cell_type": "code",
   "execution_count": 16,
   "metadata": {},
   "outputs": [
    {
     "data": {
      "text/plain": [
       "Text(89.18, 0.5, 'predicted label')"
      ]
     },
     "execution_count": 16,
     "metadata": {},
     "output_type": "execute_result"
    },
    {
     "data": {
      "image/png": "[encoded data removed]",
      "text/plain": [
       "<Figure size 432x288 with 1 Axes>"
      ]
     },
     "metadata": {},
     "output_type": "display_data"
    }
   ],
   "source": [
    "mat = confusion_matrix(preds, y_test)\n",
    "    \n",
    "sns.heatmap(mat.T, square=True, annot=True, fmt='d', cbar=False,\n",
    "        xticklabels=['negative', 'positive'], yticklabels=['negative', 'positive'])\n",
    "\n",
    "plt.xlabel('true label')\n",
    "plt.ylabel('predicted label')"
   ]
  },
  {
   "cell_type": "code",
   "execution_count": 17,
   "metadata": {},
   "outputs": [
    {
     "data": {
      "text/plain": [
       "0.783625730994152"
      ]
     },
     "execution_count": 17,
     "metadata": {},
     "output_type": "execute_result"
    }
   ],
   "source": [
    "grid_search.best_estimator_.score(X_test, y_test)"
   ]
  },
  {
   "cell_type": "code",
   "execution_count": 18,
   "metadata": {},
   "outputs": [],
   "source": [
    " # .score(X_test, y_test)"
   ]
  },
  {
   "cell_type": "markdown",
   "metadata": {},
   "source": [
    "#### l1 penalty"
   ]
  },
  {
   "cell_type": "code",
   "execution_count": 19,
   "metadata": {},
   "outputs": [
    {
     "name": "stdout",
     "output_type": "stream",
     "text": [
      "==========> NGRAM RANGE ( 1 , 1 )\n",
      "==========> NGRAM RANGE ( 1 , 2 )\n",
      "==========> NGRAM RANGE ( 1 , 3 )\n",
      "==========> NGRAM RANGE ( 1 , 4 )\n",
      "==========> NGRAM RANGE ( 1 , 5 )\n"
     ]
    }
   ],
   "source": [
    "C = [0.001, 0.01, 0.1, 1, 10, 100, 1000]\n",
    "preds, acc = [], [] \n",
    "for ngram in range(5):\n",
    "    print('==========> NGRAM RANGE ( 1 ,', ngram+1, ')')\n",
    "    c_data = dataset[ngram] \n",
    "    X_train, y_train, X_test, y_test = \\\n",
    "        c_data['X_train'], c_data['y_train'], c_data['X_test'], c_data['y_test']\n",
    "    p, a = [], []\n",
    "    for c in C:\n",
    "        lr1 = LogisticRegression(penalty='l1',\n",
    "                                 C=c, random_state=42,\n",
    "                                 solver='liblinear')\n",
    "        \n",
    "        lr1.fit(X_train, y_train)\n",
    "\n",
    "        p.append(lr1.predict(X_test))\n",
    "        a.append(lr1.score(X_test, y_test))\n",
    "        \n",
    "    preds.append(p); acc.append(a)"
   ]
  },
  {
   "cell_type": "markdown",
   "metadata": {},
   "source": [
    "plot accuracies"
   ]
  },
  {
   "cell_type": "code",
   "execution_count": 32,
   "metadata": {},
   "outputs": [
    {
     "data": {
      "text/plain": [
       "[[0.5286549707602339,\n",
       "  0.5286549707602339,\n",
       "  0.6374269005847953,\n",
       "  0.783625730994152,\n",
       "  0.7578947368421053,\n",
       "  0.7415204678362574,\n",
       "  0.7403508771929824],\n",
       " [0.5286549707602339,\n",
       "  0.5286549707602339,\n",
       "  0.639766081871345,\n",
       "  0.7988304093567251,\n",
       "  0.7380116959064328,\n",
       "  0.7099415204678362,\n",
       "  0.7052631578947368],\n",
       " [0.5286549707602339,\n",
       "  0.5286549707602339,\n",
       "  0.639766081871345,\n",
       "  0.7964912280701755,\n",
       "  0.7508771929824561,\n",
       "  0.7052631578947368,\n",
       "  0.7005847953216374],\n",
       " [0.5286549707602339,\n",
       "  0.5286549707602339,\n",
       "  0.639766081871345,\n",
       "  0.7964912280701755,\n",
       "  0.752046783625731,\n",
       "  0.7157894736842105,\n",
       "  0.7017543859649122],\n",
       " [0.5286549707602339,\n",
       "  0.5286549707602339,\n",
       "  0.639766081871345,\n",
       "  0.7964912280701755,\n",
       "  0.752046783625731,\n",
       "  0.7169590643274854,\n",
       "  0.6982456140350877]]"
      ]
     },
     "execution_count": 32,
     "metadata": {},
     "output_type": "execute_result"
    }
   ],
   "source": [
    "acc\n",
    "#max(acc[0])"
   ]
  },
  {
   "cell_type": "markdown",
   "metadata": {},
   "source": [
    "#### l2 penalty"
   ]
  },
  {
   "cell_type": "code",
   "execution_count": 20,
   "metadata": {},
   "outputs": [
    {
     "name": "stdout",
     "output_type": "stream",
     "text": [
      "==========> NGRAM RANGE ( 1 , 1 )\n",
      "==========> NGRAM RANGE ( 1 , 2 )\n",
      "==========> NGRAM RANGE ( 1 , 3 )\n",
      "==========> NGRAM RANGE ( 1 , 4 )\n",
      "==========> NGRAM RANGE ( 1 , 5 )\n"
     ]
    }
   ],
   "source": [
    "C = [0.001, 0.01, 0.1, 1, 10, 100, 1000]\n",
    "preds2, acc2 = [], [] \n",
    "\n",
    "for ngram in range(5):\n",
    "    print('==========> NGRAM RANGE ( 1 ,', ngram+1, ')')\n",
    "    c_data = dataset[ngram] \n",
    "    X_train, y_train, X_test, y_test = \\\n",
    "        c_data['X_train'], c_data['y_train'], c_data['X_test'], c_data['y_test']\n",
    "    p, a = [], []\n",
    "    for c in C:\n",
    "        lr1 = LogisticRegression(penalty='l2',\n",
    "                                 C=c, random_state=42,\n",
    "                                 solver='liblinear')\n",
    "        \n",
    "        lr1.fit(X_train, y_train)\n",
    "\n",
    "        p.append(lr1.predict(X_test))\n",
    "        a.append(lr1.score(X_test, y_test))\n",
    "        \n",
    "    preds2.append(p); acc2.append(a)"
   ]
  },
  {
   "cell_type": "markdown",
   "metadata": {},
   "source": [
    "plot accuracies"
   ]
  },
  {
   "cell_type": "code",
   "execution_count": 28,
   "metadata": {},
   "outputs": [
    {
     "data": {
      "text/plain": [
       "[[0.6385964912280702,\n",
       "  0.6818713450292397,\n",
       "  0.752046783625731,\n",
       "  0.7789473684210526,\n",
       "  0.7602339181286549,\n",
       "  0.743859649122807,\n",
       "  0.7380116959064328],\n",
       " [0.6374269005847953,\n",
       "  0.6678362573099416,\n",
       "  0.7543859649122807,\n",
       "  0.7730994152046784,\n",
       "  0.7415204678362574,\n",
       "  0.7263157894736842,\n",
       "  0.7134502923976608],\n",
       " [0.6374269005847953,\n",
       "  0.6619883040935672,\n",
       "  0.7532163742690059,\n",
       "  0.7789473684210526,\n",
       "  0.7543859649122807,\n",
       "  0.7274853801169591,\n",
       "  0.7181286549707603],\n",
       " [0.6374269005847953,\n",
       "  0.6631578947368421,\n",
       "  0.7532163742690059,\n",
       "  0.7789473684210526,\n",
       "  0.7567251461988304,\n",
       "  0.7263157894736842,\n",
       "  0.7204678362573099],\n",
       " [0.6374269005847953,\n",
       "  0.6631578947368421,\n",
       "  0.7532163742690059,\n",
       "  0.7789473684210526,\n",
       "  0.7567251461988304,\n",
       "  0.7263157894736842,\n",
       "  0.7204678362573099]]"
      ]
     },
     "execution_count": 28,
     "metadata": {},
     "output_type": "execute_result"
    }
   ],
   "source": [
    "acc2"
   ]
  },
  {
   "cell_type": "code",
   "execution_count": 21,
   "metadata": {},
   "outputs": [
    {
     "data": {
      "text/plain": [
       "[-3.0, -2.0, -1.0, 0.0, 1.0, 2.0, 3.0]"
      ]
     },
     "execution_count": 21,
     "metadata": {},
     "output_type": "execute_result"
    }
   ],
   "source": [
    "C = [0.001, 0.01, 0.1, 1, 10, 100, 1000]\n",
    "[math.log10(c) for c in C]"
   ]
  },
  {
   "cell_type": "code",
   "execution_count": 42,
   "metadata": {},
   "outputs": [
    {
     "data": {
      "image/png": "[encoded data removed]",
      "text/plain": [
       "<Figure size 720x720 with 1 Axes>"
      ]
     },
     "metadata": {},
     "output_type": "display_data"
    }
   ],
   "source": [
    "fig = plt.figure(figsize=(10, 10))\n",
    "fig.suptitle('accuracy plot for model with best hyperparameters')\n",
    "ax = plt.subplot(111)\n",
    "ax.set_title('logistic regression')\n",
    "x = list(range(1,6)) # use later: list(range(1, len(C) + 1)), acc2[:,1]) for i in range(len(acc2)\n",
    "acc = np.array(acc)\n",
    "acc2 = np.array(acc2)\n",
    "\n",
    "ax.plot(x, [max(a) for a in acc], 'ro-', label='l1')\n",
    "ax.plot(x, [max(a) for a in acc2], 'bo-', label='l2')\n",
    "\n",
    "ax.legend()\n",
    "\n",
    "plt.xlabel('ngram range (1, i)')\n",
    "plt.xticks(x)\n",
    "plt.ylabel('accuracy')\n",
    "plt.show()\n",
    "\n",
    "fig.savefig('lr_accuracy_plot.png')"
   ]
  },
  {
   "cell_type": "code",
   "execution_count": 31,
   "metadata": {},
   "outputs": [
    {
     "data": {
      "text/plain": [
       "array([0.52865497, 0.52865497, 0.52865497, 0.52865497, 0.52865497])"
      ]
     },
     "execution_count": 31,
     "metadata": {},
     "output_type": "execute_result"
    }
   ],
   "source": [
    "for i in range (len)\n",
    "    np.array(acc)[:,0]"
   ]
  },
  {
   "cell_type": "code",
   "execution_count": null,
   "metadata": {},
   "outputs": [],
   "source": []
  }
 ],
 "metadata": {
  "kernelspec": {
   "display_name": "Python 3",
   "language": "python",
   "name": "python3"
  },
  "language_info": {
   "codemirror_mode": {
    "name": "ipython",
    "version": 3
   },
   "file_extension": ".py",
   "mimetype": "text/x-python",
   "name": "python",
   "nbconvert_exporter": "python",
   "pygments_lexer": "ipython3",
   "version": "3.6.6"
  }
 },
 "nbformat": 4,
 "nbformat_minor": 2
}
