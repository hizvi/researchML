{
 "cells": [
  {
   "cell_type": "code",
   "execution_count": 1,
   "metadata": {},
   "outputs": [],
   "source": [
    "from process_edus import EDUSample"
   ]
  },
  {
   "cell_type": "code",
   "execution_count": 2,
   "metadata": {},
   "outputs": [
    {
     "name": "stdout",
     "output_type": "stream",
     "text": [
      "=====> DATA LOADED\n",
      "=====> DATA VECTORIZED\n",
      "\t ngram range  (1, 1)\n",
      "\n",
      "                    X_train_vector shape: (1341, 361)\n",
      "                    y_train shape: (1341,)\n",
      "                    X_test_vector shape: (671, 361)\n",
      "                    y_test shape: (671,)        \n",
      "        \n",
      "=====> DATA LOADED\n",
      "=====> DATA VECTORIZED\n",
      "\t ngram range  (1, 2)\n",
      "\n",
      "                    X_train_vector shape: (1341, 620)\n",
      "                    y_train shape: (1341,)\n",
      "                    X_test_vector shape: (671, 620)\n",
      "                    y_test shape: (671,)        \n",
      "        \n",
      "=====> DATA LOADED\n",
      "=====> DATA VECTORIZED\n",
      "\t ngram range  (1, 3)\n",
      "\n",
      "                    X_train_vector shape: (1341, 681)\n",
      "                    y_train shape: (1341,)\n",
      "                    X_test_vector shape: (671, 681)\n",
      "                    y_test shape: (671,)        \n",
      "        \n",
      "=====> DATA LOADED\n",
      "=====> DATA VECTORIZED\n",
      "\t ngram range  (1, 4)\n",
      "\n",
      "                    X_train_vector shape: (1341, 690)\n",
      "                    y_train shape: (1341,)\n",
      "                    X_test_vector shape: (671, 690)\n",
      "                    y_test shape: (671,)        \n",
      "        \n",
      "=====> DATA LOADED\n",
      "=====> DATA VECTORIZED\n",
      "\t ngram range  (1, 5)\n",
      "\n",
      "                    X_train_vector shape: (1341, 693)\n",
      "                    y_train shape: (1341,)\n",
      "                    X_test_vector shape: (671, 693)\n",
      "                    y_test shape: (671,)        \n",
      "        \n"
     ]
    }
   ],
   "source": [
    "data = EDUSample()\n",
    "path = r'../LabeledEDUS.txt'\n",
    "dataset = []\n",
    "\n",
    "for i in range(1, 6):\n",
    "    X_train_vector, y_train, X_test_vector, y_test = \\\n",
    "                    data.split_vectorize(path, ngram=(1, i))\n",
    "    dataset.append({\n",
    "        'X_train': X_train_vector, \n",
    "        'y_train': y_train, \n",
    "        'X_test': X_test_vector, \n",
    "        'y_test': y_test\n",
    "    })"
   ]
  },
  {
   "cell_type": "code",
   "execution_count": 3,
   "metadata": {},
   "outputs": [
    {
     "data": {
      "text/plain": [
       "(1063, 1209, 949)"
      ]
     },
     "execution_count": 3,
     "metadata": {},
     "output_type": "execute_result"
    }
   ],
   "source": [
    "data.nzp"
   ]
  },
  {
   "cell_type": "code",
   "execution_count": 48,
   "metadata": {},
   "outputs": [],
   "source": [
    "import numpy as np\n",
    "\n",
    "# Models\n",
    "from sklearn.naive_bayes import MultinomialNB\n",
    "from sklearn.linear_model import LogisticRegression\n",
    "from sklearn.svm import SVC, LinearSVC, NuSVC\n",
    "\n",
    "# Hyper-parameter tuning\n",
    "from sklearn.model_selection import GridSearchCV\n",
    "\n",
    "# Performance \n",
    "from sklearn.metrics import make_scorer, classification_report, confusion_matrix\n",
    "\n",
    "# Visualiuzations\n",
    "from matplotlib import pyplot as plt\n",
    "import seaborn as sns; sns.set()"
   ]
  },
  {
   "cell_type": "markdown",
   "metadata": {},
   "source": [
    "#### Support Vector Machines"
   ]
  },
  {
   "cell_type": "code",
   "execution_count": 16,
   "metadata": {},
   "outputs": [],
   "source": [
    "svc = SVC()"
   ]
  },
  {
   "cell_type": "code",
   "execution_count": null,
   "metadata": {},
   "outputs": [],
   "source": []
  },
  {
   "cell_type": "code",
   "execution_count": null,
   "metadata": {},
   "outputs": [],
   "source": []
  }
 ],
 "metadata": {
  "kernelspec": {
   "display_name": "Python 3",
   "language": "python",
   "name": "python3"
  },
  "language_info": {
   "codemirror_mode": {
    "name": "ipython",
    "version": 3
   },
   "file_extension": ".py",
   "mimetype": "text/x-python",
   "name": "python",
   "nbconvert_exporter": "python",
   "pygments_lexer": "ipython3",
   "version": "3.6.6"
  }
 },
 "nbformat": 4,
 "nbformat_minor": 2
}
