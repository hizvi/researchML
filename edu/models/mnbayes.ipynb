{
 "cells": [
  {
   "cell_type": "code",
   "execution_count": 2,
   "metadata": {},
   "outputs": [],
   "source": [
    "from process_edus import EDUSample"
   ]
  },
  {
   "cell_type": "code",
   "execution_count": 3,
   "metadata": {},
   "outputs": [
    {
     "name": "stdout",
     "output_type": "stream",
     "text": [
      "=====> DATA LOADED\n",
      "=====> DATA VECTORIZED\n",
      "\t ngram range  (1, 1)\n",
      "                    X_train_vector shape: (1709, 432)\n",
      "                    y_train shape: (1709,)\n",
      "                    X_test_vector shape: (855, 432)\n",
      "                    y_test shape: (855,)        \n",
      "        \n",
      "=====> DATA LOADED\n",
      "=====> DATA VECTORIZED\n",
      "\t ngram range  (1, 2)\n",
      "                    X_train_vector shape: (1709, 705)\n",
      "                    y_train shape: (1709,)\n",
      "                    X_test_vector shape: (855, 705)\n",
      "                    y_test shape: (855,)        \n",
      "        \n",
      "=====> DATA LOADED\n",
      "=====> DATA VECTORIZED\n",
      "\t ngram range  (1, 3)\n",
      "                    X_train_vector shape: (1709, 763)\n",
      "                    y_train shape: (1709,)\n",
      "                    X_test_vector shape: (855, 763)\n",
      "                    y_test shape: (855,)        \n",
      "        \n",
      "=====> DATA LOADED\n",
      "=====> DATA VECTORIZED\n",
      "\t ngram range  (1, 4)\n",
      "                    X_train_vector shape: (1709, 771)\n",
      "                    y_train shape: (1709,)\n",
      "                    X_test_vector shape: (855, 771)\n",
      "                    y_test shape: (855,)        \n",
      "        \n",
      "=====> DATA LOADED\n",
      "=====> DATA VECTORIZED\n",
      "\t ngram range  (1, 5)\n",
      "                    X_train_vector shape: (1709, 773)\n",
      "                    y_train shape: (1709,)\n",
      "                    X_test_vector shape: (855, 773)\n",
      "                    y_test shape: (855,)        \n",
      "        \n"
     ]
    }
   ],
   "source": [
    "data = EDUSample()\n",
    "path = r'../LabeledEDUS.txt'\n",
    "dataset = []\n",
    "\n",
    "for i in range(1, 6):\n",
    "    X_train_vector, y_train, X_test_vector, y_test = \\\n",
    "                    data.split_vectorize(path, ngram=(1, i))\n",
    "    dataset.append({\n",
    "        'X_train': X_train_vector, \n",
    "        'y_train': y_train, \n",
    "        'X_test': X_test_vector, \n",
    "        'y_test': y_test\n",
    "    })"
   ]
  },
  {
   "cell_type": "code",
   "execution_count": 4,
   "metadata": {},
   "outputs": [
    {
     "data": {
      "text/plain": [
       "(1322, 1577, 1242)"
      ]
     },
     "execution_count": 4,
     "metadata": {},
     "output_type": "execute_result"
    }
   ],
   "source": [
    "data.nzp"
   ]
  },
  {
   "cell_type": "code",
   "execution_count": 1,
   "metadata": {},
   "outputs": [],
   "source": [
    "import numpy as np\n",
    "\n",
    "# Models\n",
    "from sklearn.naive_bayes import MultinomialNB\n",
    "from sklearn.linear_model import LogisticRegression\n",
    "from sklearn.svm import SVC, LinearSVC, NuSVC\n",
    "\n",
    "# Hyper-parameter tuning\n",
    "from sklearn.model_selection import GridSearchCV\n",
    "\n",
    "# Performance \n",
    "from sklearn.metrics import make_scorer, classification_report, confusion_matrix\n",
    "from sklearn.metrics import precision_recall_fscore_support\n",
    "\n",
    "# Visualiuzations\n",
    "from matplotlib import pyplot as plt\n",
    "import seaborn as sns; sns.set()"
   ]
  },
  {
   "cell_type": "markdown",
   "metadata": {},
   "source": [
    "#### Multinomial Naive Bayes"
   ]
  },
  {
   "cell_type": "code",
   "execution_count": 6,
   "metadata": {},
   "outputs": [],
   "source": [
    "# trying for varying alphas, didn't find a lot of variation in prediction \n",
    "\n",
    "# acc = []\n",
    "# for ngram in range(len(dataset)):\n",
    "#     print('==========> NGRAM RANGE ( 1 ,', ngram+1, ')')\n",
    "#     acc.append([])\n",
    "#     for alpha in np.linspace(0, 2, 9):\n",
    "#         print(\"======> alpha \", alpha)\n",
    "#         mnb = MultinomialNB(alpha=alpha)\n",
    "#         c_data = dataset[ngram] \n",
    "#         X_train, y_train, X_test, y_test = \\\n",
    "#             c_data['X_train'], c_data['y_train'], c_data['X_test'], c_data['y_test']\n",
    "#         mnb.fit(X_train, y_train)\n",
    "#         acc[-1].append(mnb.score(X_test, y_test))"
   ]
  },
  {
   "cell_type": "code",
   "execution_count": 5,
   "metadata": {},
   "outputs": [
    {
     "name": "stdout",
     "output_type": "stream",
     "text": [
      "==========> NGRAM RANGE ( 1 , 1 )\n",
      "==========> NGRAM RANGE ( 1 , 2 )\n",
      "==========> NGRAM RANGE ( 1 , 3 )\n",
      "==========> NGRAM RANGE ( 1 , 4 )\n",
      "==========> NGRAM RANGE ( 1 , 5 )\n"
     ]
    }
   ],
   "source": [
    "acc = []\n",
    "preds = []\n",
    "metric = []\n",
    "for ngram in range(len(dataset)):\n",
    "    print('==========> NGRAM RANGE ( 1 ,', ngram+1, ')')\n",
    "    \n",
    "    mnb = MultinomialNB(alpha=1.0) \n",
    "    \n",
    "    c_data = dataset[ngram] \n",
    "    X_train, y_train, X_test, y_test = \\\n",
    "        c_data['X_train'], c_data['y_train'], c_data['X_test'], c_data['y_test']\n",
    "    \n",
    "    mnb.fit(X_train, y_train)\n",
    "    \n",
    "    preds.append(mnb.predict(X_test))\n",
    "    acc.append((mnb.score(X_train, y_train), mnb.score(X_test, y_test)))\n",
    "    metric.append(precision_recall_fscore_support(y_test, mnb.predict(X_test), average='micro'))"
   ]
  },
  {
   "cell_type": "markdown",
   "metadata": {},
   "source": [
    "Plot confusion matrices"
   ]
  },
  {
   "cell_type": "code",
   "execution_count": 15,
   "metadata": {},
   "outputs": [
    {
     "data": {
      "image/png": "[encoded data removed]",
      "text/plain": [
       "<Figure size 1152x1152 with 5 Axes>"
      ]
     },
     "metadata": {
      "needs_background": "light"
     },
     "output_type": "display_data"
    }
   ],
   "source": [
    "fig = plt.figure(figsize=(16, 16))\n",
    "fig.suptitle('Multinomial Naive Bayes Confusion Matrices')\n",
    "#fig.tight_layout()\n",
    "\n",
    "for ngram in range(len(preds)):    \n",
    "    axe = fig.add_subplot(3, 2, ngram+1)\n",
    "    axe.set_title('ngram range (1, {})'.format(ngram+1))\n",
    "    \n",
    "    mat = confusion_matrix(preds[ngram], y_test)\n",
    "    \n",
    "    sns.heatmap(mat.T, square=True, annot=True, fmt='d', cbar=False, ax=axe,\n",
    "            xticklabels=['negative', 'positive'], yticklabels=['negative', 'positive'])\n",
    "    \n",
    "    plt.xlabel('true label')\n",
    "    plt.ylabel('predicted label')\n",
    "    \n",
    "fig.savefig('mnb_confusion.png')"
   ]
  },
  {
   "cell_type": "code",
   "execution_count": 6,
   "metadata": {},
   "outputs": [
    {
     "name": "stdout",
     "output_type": "stream",
     "text": [
      "ngram range\t accuracy\n",
      "----------------------------\n",
      "(1, 1)\t\t (0.85020479812756, 0.7649122807017544)\n",
      "(1, 2)\t\t (0.8788765359859567, 0.7590643274853801)\n",
      "(1, 3)\t\t (0.8788765359859567, 0.7567251461988304)\n",
      "(1, 4)\t\t (0.8782913984786425, 0.7555555555555555)\n",
      "(1, 5)\t\t (0.8800468110005851, 0.7555555555555555)\n"
     ]
    }
   ],
   "source": [
    "print('ngram range\\t accuracy')\n",
    "print('----------------------------')\n",
    "for i in range(len(acc)):\n",
    "    print('(1, {})\\t\\t {}'.format(i+1, acc[i]))\n",
    "    "
   ]
  },
  {
   "cell_type": "markdown",
   "metadata": {},
   "source": [
    "-"
   ]
  },
  {
   "cell_type": "markdown",
   "metadata": {},
   "source": [
    "\n",
    "**TODO: plot accuracies**"
   ]
  },
  {
   "cell_type": "code",
   "execution_count": 7,
   "metadata": {},
   "outputs": [
    {
     "data": {
      "text/plain": [
       "[(0.7649122807017544, 0.7649122807017544, 0.7649122807017544, None),\n",
       " (0.7590643274853801, 0.7590643274853801, 0.7590643274853801, None),\n",
       " (0.7567251461988304, 0.7567251461988304, 0.7567251461988304, None),\n",
       " (0.7555555555555555, 0.7555555555555555, 0.7555555555555555, None),\n",
       " (0.7555555555555555, 0.7555555555555555, 0.7555555555555555, None)]"
      ]
     },
     "execution_count": 7,
     "metadata": {},
     "output_type": "execute_result"
    }
   ],
   "source": [
    "metric"
   ]
  },
  {
   "cell_type": "code",
   "execution_count": null,
   "metadata": {},
   "outputs": [],
   "source": []
  }
 ],
 "metadata": {
  "kernelspec": {
   "display_name": "Python 3",
   "language": "python",
   "name": "python3"
  },
  "language_info": {
   "codemirror_mode": {
    "name": "ipython",
    "version": 3
   },
   "file_extension": ".py",
   "mimetype": "text/x-python",
   "name": "python",
   "nbconvert_exporter": "python",
   "pygments_lexer": "ipython3",
   "version": "3.6.6"
  }
 },
 "nbformat": 4,
 "nbformat_minor": 2
}
