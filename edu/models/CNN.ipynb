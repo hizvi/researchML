{
 "cells": [
  {
   "cell_type": "code",
   "execution_count": 1,
   "metadata": {},
   "outputs": [],
   "source": [
    "from process_edus import EDUSample"
   ]
  },
  {
   "cell_type": "code",
   "execution_count": 2,
   "metadata": {},
   "outputs": [
    {
     "name": "stdout",
     "output_type": "stream",
     "text": [
      "=====> DATA LOADED\n"
     ]
    }
   ],
   "source": [
    "data = EDUSample()\n",
    "path = r'../LabeledEDUS.txt'\n",
    "\n",
    "edus, targets = data.read_labeled(path)\n"
   ]
  },
  {
   "cell_type": "code",
   "execution_count": 3,
   "metadata": {},
   "outputs": [
    {
     "name": "stderr",
     "output_type": "stream",
     "text": [
      "Using TensorFlow backend.\n"
     ]
    }
   ],
   "source": [
    "import numpy as np\n",
    "\n",
    "from keras.preprocessing.text import Tokenizer\n",
    "from keras.preprocessing.sequence import pad_sequences\n",
    "from keras.models import Sequential, Model\n",
    "from keras.initializers import Constant\n",
    "from keras.layers import Input, Dense, Flatten, Embedding, Conv1D, MaxPooling1D, GlobalMaxPooling1D"
   ]
  },
  {
   "cell_type": "code",
   "execution_count": 4,
   "metadata": {},
   "outputs": [],
   "source": [
    "GLOVE_PATH = r'../../../GloVe/glove.6B.100d.txt'"
   ]
  },
  {
   "cell_type": "code",
   "execution_count": 5,
   "metadata": {},
   "outputs": [],
   "source": [
    "# tokenize edus\n",
    "t = Tokenizer()\n",
    "t.fit_on_texts(edus)\n",
    "vocab_size = len(t.word_index) + 1\n",
    "\n",
    "# integer encode the documents\n",
    "encoded_edus = t.texts_to_sequences(edus)\n",
    "\n",
    "# pad documents to a max length of 4 words\n",
    "max_length = 1 << (max(map(lambda x: len(x), encoded_edus)) - 1).bit_length()\n",
    "padded_edus = pad_sequences(encoded_edus, maxlen=max_length)"
   ]
  },
  {
   "cell_type": "markdown",
   "metadata": {},
   "source": [
    "split data"
   ]
  },
  {
   "cell_type": "code",
   "execution_count": 6,
   "metadata": {},
   "outputs": [],
   "source": [
    "X_train, y_train, X_test, y_test = data.split_data(padded_edus, targets)"
   ]
  },
  {
   "cell_type": "markdown",
   "metadata": {},
   "source": [
    "Preparing embedding matrix"
   ]
  },
  {
   "cell_type": "code",
   "execution_count": 7,
   "metadata": {},
   "outputs": [
    {
     "name": "stdout",
     "output_type": "stream",
     "text": [
      "Preparing embedding matrix.\n",
      "Loaded 400000 word vectors.\n"
     ]
    }
   ],
   "source": [
    "print('Preparing embedding matrix.')\n",
    "# load the whole embedding into memory\n",
    "embeddings_index = dict()\n",
    "f = open(GLOVE_PATH)\n",
    "for line in f:\n",
    "    values = line.split()\n",
    "    word = values[0]\n",
    "    coefs = np.asarray(values[1:], dtype='float32')\n",
    "    embeddings_index[word] = coefs\n",
    "f.close()\n",
    "print('Loaded %s word vectors.' % len(embeddings_index))\n",
    "\n",
    "# create a weight matrix for words in training docs\n",
    "embedding_matrix = np.zeros((vocab_size, 100))\n",
    "for word, i in t.word_index.items():\n",
    "    embedding_vector = embeddings_index.get(word)\n",
    "    if embedding_vector is not None:\n",
    "        embedding_matrix[i] = embedding_vector"
   ]
  },
  {
   "cell_type": "markdown",
   "metadata": {},
   "source": [
    "keras model"
   ]
  },
  {
   "cell_type": "code",
   "execution_count": 11,
   "metadata": {},
   "outputs": [
    {
     "name": "stdout",
     "output_type": "stream",
     "text": [
      "Model Setup\n",
      "Fitting model\n",
      "Train on 1709 samples, validate on 855 samples\n",
      "Epoch 1/5\n",
      "1709/1709 [==============================] - 4s 2ms/step - loss: 8.1158 - acc: 0.4909 - val_loss: 8.4280 - val_acc: 0.4713\n",
      "Epoch 2/5\n",
      "1709/1709 [==============================] - 2s 1ms/step - loss: 8.1158 - acc: 0.4909 - val_loss: 8.4280 - val_acc: 0.4713\n",
      "Epoch 3/5\n",
      "1709/1709 [==============================] - 2s 1ms/step - loss: 8.1158 - acc: 0.4909 - val_loss: 8.4280 - val_acc: 0.4713\n",
      "Epoch 4/5\n",
      "1709/1709 [==============================] - 2s 1ms/step - loss: 8.1158 - acc: 0.4909 - val_loss: 8.4280 - val_acc: 0.4713\n",
      "Epoch 5/5\n",
      "1709/1709 [==============================] - 2s 1ms/step - loss: 8.1158 - acc: 0.4909 - val_loss: 8.4280 - val_acc: 0.4713\n"
     ]
    },
    {
     "data": {
      "text/plain": [
       "<keras.callbacks.History at 0x7f3b84622278>"
      ]
     },
     "execution_count": 11,
     "metadata": {},
     "output_type": "execute_result"
    }
   ],
   "source": [
    "print('Model Setup') \n",
    "\n",
    "inputs = Input(shape=(max_length,), dtype='int32')\n",
    "embed_sequence = Embedding(vocab_size, 100, \n",
    "                           embeddings_initializer=Constant(embedding_matrix), \n",
    "                           input_length=max_length,\n",
    "                           trainable=False)(inputs)\n",
    "\n",
    "x = Conv1D(128, 5, activation='relu')(embed_sequence)\n",
    "x = MaxPooling1D(5)(x)\n",
    "x = Conv1D(128, 3, activation='relu')(x)\n",
    "x = MaxPooling1D(3)(x)\n",
    "x = Conv1D(128, 5, activation='relu')(x)\n",
    "x = GlobalMaxPooling1D()(x)\n",
    "x = Dense(128, activation='relu')(x)\n",
    "preds = Dense(1, activation='softmax')(x)\n",
    "\n",
    "model = Model(inputs, preds)\n",
    "model.compile(loss='binary_crossentropy',\n",
    "              optimizer='adam',\n",
    "              metrics=['acc'])\n",
    "\n",
    "print('Fitting model')\n",
    "model.fit(X_train, y_train, \n",
    "          validation_data=(X_test, y_test),\n",
    "          epochs=5)"
   ]
  },
  {
   "cell_type": "code",
   "execution_count": 12,
   "metadata": {},
   "outputs": [
    {
     "data": {
      "image/svg+xml": [
       "<svg height=\"702pt\" viewBox=\"0.00 0.00 358.00 702.00\" width=\"358pt\" xmlns=\"http://www.w3.org/2000/svg\" xmlns:xlink=\"http://www.w3.org/1999/xlink\">\n",
       "<g class=\"graph\" id=\"graph0\" transform=\"scale(1 1) rotate(0) translate(4 698)\">\n",
       "<title>G</title>\n",
       "<polygon fill=\"#ffffff\" points=\"-4,4 -4,-698 354,-698 354,4 -4,4\" stroke=\"transparent\"/>\n",
       "<!-- 139893604180376 -->\n",
       "<g class=\"node\" id=\"node1\">\n",
       "<title>139893604180376</title>\n",
       "<polygon fill=\"none\" points=\"95,-657.5 95,-693.5 255,-693.5 255,-657.5 95,-657.5\" stroke=\"#000000\"/>\n",
       "<text fill=\"#000000\" font-family=\"Times,serif\" font-size=\"14.00\" text-anchor=\"middle\" x=\"175\" y=\"-671.8\">input_3: InputLayer</text>\n",
       "</g>\n",
       "<!-- 139895274938832 -->\n",
       "<g class=\"node\" id=\"node2\">\n",
       "<title>139895274938832</title>\n",
       "<polygon fill=\"none\" points=\"73.5,-584.5 73.5,-620.5 276.5,-620.5 276.5,-584.5 73.5,-584.5\" stroke=\"#000000\"/>\n",
       "<text fill=\"#000000\" font-family=\"Times,serif\" font-size=\"14.00\" text-anchor=\"middle\" x=\"175\" y=\"-598.8\">embedding_3: Embedding</text>\n",
       "</g>\n",
       "<!-- 139893604180376&#45;&gt;139895274938832 -->\n",
       "<g class=\"edge\" id=\"edge1\">\n",
       "<title>139893604180376-&gt;139895274938832</title>\n",
       "<path d=\"M175,-657.4551C175,-649.3828 175,-639.6764 175,-630.6817\" fill=\"none\" stroke=\"#000000\"/>\n",
       "<polygon fill=\"#000000\" points=\"178.5001,-630.5903 175,-620.5904 171.5001,-630.5904 178.5001,-630.5903\" stroke=\"#000000\"/>\n",
       "</g>\n",
       "<!-- 139893601571392 -->\n",
       "<g class=\"node\" id=\"node3\">\n",
       "<title>139893601571392</title>\n",
       "<polygon fill=\"none\" points=\"99.5,-511.5 99.5,-547.5 250.5,-547.5 250.5,-511.5 99.5,-511.5\" stroke=\"#000000\"/>\n",
       "<text fill=\"#000000\" font-family=\"Times,serif\" font-size=\"14.00\" text-anchor=\"middle\" x=\"175\" y=\"-525.8\">conv1d_5: Conv1D</text>\n",
       "</g>\n",
       "<!-- 139895274938832&#45;&gt;139893601571392 -->\n",
       "<g class=\"edge\" id=\"edge2\">\n",
       "<title>139895274938832-&gt;139893601571392</title>\n",
       "<path d=\"M175,-584.4551C175,-576.3828 175,-566.6764 175,-557.6817\" fill=\"none\" stroke=\"#000000\"/>\n",
       "<polygon fill=\"#000000\" points=\"178.5001,-557.5903 175,-547.5904 171.5001,-557.5904 178.5001,-557.5903\" stroke=\"#000000\"/>\n",
       "</g>\n",
       "<!-- 139893601571672 -->\n",
       "<g class=\"node\" id=\"node4\">\n",
       "<title>139893601571672</title>\n",
       "<polygon fill=\"none\" points=\"48,-438.5 48,-474.5 302,-474.5 302,-438.5 48,-438.5\" stroke=\"#000000\"/>\n",
       "<text fill=\"#000000\" font-family=\"Times,serif\" font-size=\"14.00\" text-anchor=\"middle\" x=\"175\" y=\"-452.8\">max_pooling1d_3: MaxPooling1D</text>\n",
       "</g>\n",
       "<!-- 139893601571392&#45;&gt;139893601571672 -->\n",
       "<g class=\"edge\" id=\"edge3\">\n",
       "<title>139893601571392-&gt;139893601571672</title>\n",
       "<path d=\"M175,-511.4551C175,-503.3828 175,-493.6764 175,-484.6817\" fill=\"none\" stroke=\"#000000\"/>\n",
       "<polygon fill=\"#000000\" points=\"178.5001,-484.5903 175,-474.5904 171.5001,-484.5904 178.5001,-484.5903\" stroke=\"#000000\"/>\n",
       "</g>\n",
       "<!-- 139893601572568 -->\n",
       "<g class=\"node\" id=\"node5\">\n",
       "<title>139893601572568</title>\n",
       "<polygon fill=\"none\" points=\"99.5,-365.5 99.5,-401.5 250.5,-401.5 250.5,-365.5 99.5,-365.5\" stroke=\"#000000\"/>\n",
       "<text fill=\"#000000\" font-family=\"Times,serif\" font-size=\"14.00\" text-anchor=\"middle\" x=\"175\" y=\"-379.8\">conv1d_6: Conv1D</text>\n",
       "</g>\n",
       "<!-- 139893601571672&#45;&gt;139893601572568 -->\n",
       "<g class=\"edge\" id=\"edge4\">\n",
       "<title>139893601571672-&gt;139893601572568</title>\n",
       "<path d=\"M175,-438.4551C175,-430.3828 175,-420.6764 175,-411.6817\" fill=\"none\" stroke=\"#000000\"/>\n",
       "<polygon fill=\"#000000\" points=\"178.5001,-411.5903 175,-401.5904 171.5001,-411.5904 178.5001,-411.5903\" stroke=\"#000000\"/>\n",
       "</g>\n",
       "<!-- 139893601572680 -->\n",
       "<g class=\"node\" id=\"node6\">\n",
       "<title>139893601572680</title>\n",
       "<polygon fill=\"none\" points=\"48,-292.5 48,-328.5 302,-328.5 302,-292.5 48,-292.5\" stroke=\"#000000\"/>\n",
       "<text fill=\"#000000\" font-family=\"Times,serif\" font-size=\"14.00\" text-anchor=\"middle\" x=\"175\" y=\"-306.8\">max_pooling1d_4: MaxPooling1D</text>\n",
       "</g>\n",
       "<!-- 139893601572568&#45;&gt;139893601572680 -->\n",
       "<g class=\"edge\" id=\"edge5\">\n",
       "<title>139893601572568-&gt;139893601572680</title>\n",
       "<path d=\"M175,-365.4551C175,-357.3828 175,-347.6764 175,-338.6817\" fill=\"none\" stroke=\"#000000\"/>\n",
       "<polygon fill=\"#000000\" points=\"178.5001,-338.5903 175,-328.5904 171.5001,-338.5904 178.5001,-338.5903\" stroke=\"#000000\"/>\n",
       "</g>\n",
       "<!-- 139893601693200 -->\n",
       "<g class=\"node\" id=\"node7\">\n",
       "<title>139893601693200</title>\n",
       "<polygon fill=\"none\" points=\"99.5,-219.5 99.5,-255.5 250.5,-255.5 250.5,-219.5 99.5,-219.5\" stroke=\"#000000\"/>\n",
       "<text fill=\"#000000\" font-family=\"Times,serif\" font-size=\"14.00\" text-anchor=\"middle\" x=\"175\" y=\"-233.8\">conv1d_7: Conv1D</text>\n",
       "</g>\n",
       "<!-- 139893601572680&#45;&gt;139893601693200 -->\n",
       "<g class=\"edge\" id=\"edge6\">\n",
       "<title>139893601572680-&gt;139893601693200</title>\n",
       "<path d=\"M175,-292.4551C175,-284.3828 175,-274.6764 175,-265.6817\" fill=\"none\" stroke=\"#000000\"/>\n",
       "<polygon fill=\"#000000\" points=\"178.5001,-265.5903 175,-255.5904 171.5001,-265.5904 178.5001,-265.5903\" stroke=\"#000000\"/>\n",
       "</g>\n",
       "<!-- 139893601311544 -->\n",
       "<g class=\"node\" id=\"node8\">\n",
       "<title>139893601311544</title>\n",
       "<polygon fill=\"none\" points=\"0,-146.5 0,-182.5 350,-182.5 350,-146.5 0,-146.5\" stroke=\"#000000\"/>\n",
       "<text fill=\"#000000\" font-family=\"Times,serif\" font-size=\"14.00\" text-anchor=\"middle\" x=\"175\" y=\"-160.8\">global_max_pooling1d_2: GlobalMaxPooling1D</text>\n",
       "</g>\n",
       "<!-- 139893601693200&#45;&gt;139893601311544 -->\n",
       "<g class=\"edge\" id=\"edge7\">\n",
       "<title>139893601693200-&gt;139893601311544</title>\n",
       "<path d=\"M175,-219.4551C175,-211.3828 175,-201.6764 175,-192.6817\" fill=\"none\" stroke=\"#000000\"/>\n",
       "<polygon fill=\"#000000\" points=\"178.5001,-192.5903 175,-182.5904 171.5001,-192.5904 178.5001,-192.5903\" stroke=\"#000000\"/>\n",
       "</g>\n",
       "<!-- 139893601450696 -->\n",
       "<g class=\"node\" id=\"node9\">\n",
       "<title>139893601450696</title>\n",
       "<polygon fill=\"none\" points=\"111,-73.5 111,-109.5 239,-109.5 239,-73.5 111,-73.5\" stroke=\"#000000\"/>\n",
       "<text fill=\"#000000\" font-family=\"Times,serif\" font-size=\"14.00\" text-anchor=\"middle\" x=\"175\" y=\"-87.8\">dense_3: Dense</text>\n",
       "</g>\n",
       "<!-- 139893601311544&#45;&gt;139893601450696 -->\n",
       "<g class=\"edge\" id=\"edge8\">\n",
       "<title>139893601311544-&gt;139893601450696</title>\n",
       "<path d=\"M175,-146.4551C175,-138.3828 175,-128.6764 175,-119.6817\" fill=\"none\" stroke=\"#000000\"/>\n",
       "<polygon fill=\"#000000\" points=\"178.5001,-119.5903 175,-109.5904 171.5001,-119.5904 178.5001,-119.5903\" stroke=\"#000000\"/>\n",
       "</g>\n",
       "<!-- 139893601048448 -->\n",
       "<g class=\"node\" id=\"node10\">\n",
       "<title>139893601048448</title>\n",
       "<polygon fill=\"none\" points=\"111,-.5 111,-36.5 239,-36.5 239,-.5 111,-.5\" stroke=\"#000000\"/>\n",
       "<text fill=\"#000000\" font-family=\"Times,serif\" font-size=\"14.00\" text-anchor=\"middle\" x=\"175\" y=\"-14.8\">dense_4: Dense</text>\n",
       "</g>\n",
       "<!-- 139893601450696&#45;&gt;139893601048448 -->\n",
       "<g class=\"edge\" id=\"edge9\">\n",
       "<title>139893601450696-&gt;139893601048448</title>\n",
       "<path d=\"M175,-73.4551C175,-65.3828 175,-55.6764 175,-46.6817\" fill=\"none\" stroke=\"#000000\"/>\n",
       "<polygon fill=\"#000000\" points=\"178.5001,-46.5903 175,-36.5904 171.5001,-46.5904 178.5001,-46.5903\" stroke=\"#000000\"/>\n",
       "</g>\n",
       "</g>\n",
       "</svg>"
      ],
      "text/plain": [
       "<IPython.core.display.SVG object>"
      ]
     },
     "execution_count": 12,
     "metadata": {},
     "output_type": "execute_result"
    }
   ],
   "source": [
    "from IPython.display import SVG\n",
    "from keras.utils.vis_utils import model_to_dot\n",
    "\n",
    "SVG(model_to_dot(model).create(prog='dot', format='svg'))"
   ]
  },
  {
   "cell_type": "code",
   "execution_count": null,
   "metadata": {},
   "outputs": [],
   "source": []
  },
  {
   "cell_type": "code",
   "execution_count": null,
   "metadata": {},
   "outputs": [],
   "source": []
  }
 ],
 "metadata": {
  "kernelspec": {
   "display_name": "Python 3",
   "language": "python",
   "name": "python3"
  },
  "language_info": {
   "codemirror_mode": {
    "name": "ipython",
    "version": 3
   },
   "file_extension": ".py",
   "mimetype": "text/x-python",
   "name": "python",
   "nbconvert_exporter": "python",
   "pygments_lexer": "ipython3",
   "version": "3.6.6"
  }
 },
 "nbformat": 4,
 "nbformat_minor": 2
}
